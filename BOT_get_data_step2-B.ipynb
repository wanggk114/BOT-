{
 "cells": [
  {
   "cell_type": "code",
   "execution_count": 9,
   "metadata": {},
   "outputs": [],
   "source": [
    "import pandas as pd\n",
    "import numpy as np\n",
    "import time \n",
    "import os.path\n",
    "import datetime\n",
    "import help as hp"
   ]
  },
  {
   "cell_type": "markdown",
   "metadata": {},
   "source": [
    "## 读取加工后的数据\n",
    "按日期分了两个文件：  \n",
    "B_train_data_group_by_hour_20170102_20170131.csv  \n",
    "B_train_data_group_by_hour_20170201_20170312.csv\n"
   ]
  },
  {
   "cell_type": "code",
   "execution_count": 10,
   "metadata": {},
   "outputs": [
    {
     "name": "stdout",
     "output_type": "stream",
     "text": [
      "by_hour_data1 rows= 22985\n",
      "by_hour_data2 rows= 30915\n",
      "by_hour_data rows= 53900\n",
      "by_hour_data rows= 53898\n"
     ]
    },
    {
     "data": {
      "text/html": [
       "<div>\n",
       "<table border=\"1\" class=\"dataframe\">\n",
       "  <thead>\n",
       "    <tr style=\"text-align: right;\">\n",
       "      <th></th>\n",
       "      <th>grid_id</th>\n",
       "      <th>date</th>\n",
       "      <th>hour</th>\n",
       "      <th>car_number</th>\n",
       "    </tr>\n",
       "  </thead>\n",
       "  <tbody>\n",
       "    <tr>\n",
       "      <th>0</th>\n",
       "      <td>51.0</td>\n",
       "      <td>20170102</td>\n",
       "      <td>8.0</td>\n",
       "      <td>9</td>\n",
       "    </tr>\n",
       "    <tr>\n",
       "      <th>1</th>\n",
       "      <td>51.0</td>\n",
       "      <td>20170102</td>\n",
       "      <td>9.0</td>\n",
       "      <td>14</td>\n",
       "    </tr>\n",
       "    <tr>\n",
       "      <th>2</th>\n",
       "      <td>51.0</td>\n",
       "      <td>20170102</td>\n",
       "      <td>10.0</td>\n",
       "      <td>7</td>\n",
       "    </tr>\n",
       "    <tr>\n",
       "      <th>3</th>\n",
       "      <td>51.0</td>\n",
       "      <td>20170102</td>\n",
       "      <td>11.0</td>\n",
       "      <td>8</td>\n",
       "    </tr>\n",
       "    <tr>\n",
       "      <th>4</th>\n",
       "      <td>51.0</td>\n",
       "      <td>20170102</td>\n",
       "      <td>12.0</td>\n",
       "      <td>7</td>\n",
       "    </tr>\n",
       "  </tbody>\n",
       "</table>\n",
       "</div>"
      ],
      "text/plain": [
       "   grid_id      date  hour  car_number\n",
       "0     51.0  20170102   8.0           9\n",
       "1     51.0  20170102   9.0          14\n",
       "2     51.0  20170102  10.0           7\n",
       "3     51.0  20170102  11.0           8\n",
       "4     51.0  20170102  12.0           7"
      ]
     },
     "execution_count": 10,
     "metadata": {},
     "output_type": "execute_result"
    }
   ],
   "source": [
    "# 合并按小时统计的训练数据[step1中分成了两个文件]\n",
    "by_hour_data1 = pd.read_csv(\"B_train_data_group_by_hour_20170102_20170131.csv\")\n",
    "print(\"by_hour_data1 rows=\", by_hour_data1.shape[0])\n",
    "by_hour_data2 = pd.read_csv(\"B_train_data_group_by_hour_20170201_20170312.csv\")\n",
    "print(\"by_hour_data2 rows=\", by_hour_data2.shape[0])\n",
    "hour_data=pd.concat([by_hour_data1, by_hour_data2], axis=0)\n",
    "print(\"by_hour_data rows=\", hour_data.shape[0])\n",
    "\n",
    "#两个文件合并,还有部分数据['grid_id','date','hour']是一样的,需要再次合并统计\n",
    "hour_data=hour_data.groupby(['grid_id','date','hour'],as_index=False).sum()\n",
    "print(\"by_hour_data rows=\", hour_data.shape[0])\n",
    "\n",
    "del by_hour_data1\n",
    "del by_hour_data2\n",
    "\n",
    "hour_data.head()\n"
   ]
  },
  {
   "cell_type": "markdown",
   "metadata": {},
   "source": [
    "### 数据类型转换"
   ]
  },
  {
   "cell_type": "code",
   "execution_count": 11,
   "metadata": {},
   "outputs": [
    {
     "name": "stdout",
     "output_type": "stream",
     "text": [
      "<class 'pandas.core.frame.DataFrame'>\n",
      "Int64Index: 53898 entries, 0 to 53897\n",
      "Data columns (total 4 columns):\n",
      "grid_id       53898 non-null int64\n",
      "date          53898 non-null int64\n",
      "hour          53898 non-null int64\n",
      "car_number    53898 non-null int64\n",
      "dtypes: int64(4)\n",
      "memory usage: 2.1 MB\n"
     ]
    }
   ],
   "source": [
    "hour_data['grid_id']=hour_data['grid_id'].astype(np.int64)\n",
    "hour_data['hour']=hour_data['hour'].astype(np.int64)\n",
    "hour_data.info()"
   ]
  },
  {
   "cell_type": "markdown",
   "metadata": {},
   "source": [
    "### 每个grid_id生成一份数据"
   ]
  },
  {
   "cell_type": "code",
   "execution_count": 12,
   "metadata": {},
   "outputs": [],
   "source": [
    "for grid_id in range(51, 101):\n",
    "    grid_data=hour_data[hour_data['grid_id'] == grid_id]\n",
    "    grid_data.to_csv(\"B_train_data_grid_{}.csv\".format(grid_id), index=None)"
   ]
  },
  {
   "cell_type": "markdown",
   "metadata": {},
   "source": [
    "### 导入天气数据"
   ]
  },
  {
   "cell_type": "code",
   "execution_count": 13,
   "metadata": {},
   "outputs": [
    {
     "name": "stdout",
     "output_type": "stream",
     "text": [
      "<class 'pandas.core.frame.DataFrame'>\n",
      "RangeIndex: 1344 entries, 0 to 1343\n",
      "Data columns (total 7 columns):\n",
      "date          1344 non-null int64\n",
      "hour          1344 non-null int64\n",
      "temp          1344 non-null int64\n",
      "humidity      1344 non-null int64\n",
      "wind_speed    1344 non-null float64\n",
      "weather       1344 non-null int64\n",
      "dayofweek     1344 non-null int64\n",
      "dtypes: float64(1), int64(6)\n",
      "memory usage: 73.6 KB\n"
     ]
    }
   ],
   "source": [
    "# 导入天气数据 weather_20170102_20170326.csv\n",
    "weather_data=pd.read_csv(\"weather_20170102_20170326.csv\")\n",
    "weather_data.info()"
   ]
  },
  {
   "cell_type": "code",
   "execution_count": 14,
   "metadata": {},
   "outputs": [
    {
     "data": {
      "text/html": [
       "<div>\n",
       "<table border=\"1\" class=\"dataframe\">\n",
       "  <thead>\n",
       "    <tr style=\"text-align: right;\">\n",
       "      <th></th>\n",
       "      <th>date</th>\n",
       "      <th>hour</th>\n",
       "      <th>temp</th>\n",
       "      <th>humidity</th>\n",
       "      <th>wind_speed</th>\n",
       "      <th>weather</th>\n",
       "      <th>dayofweek</th>\n",
       "    </tr>\n",
       "  </thead>\n",
       "  <tbody>\n",
       "    <tr>\n",
       "      <th>0</th>\n",
       "      <td>20170102</td>\n",
       "      <td>8</td>\n",
       "      <td>11</td>\n",
       "      <td>94</td>\n",
       "      <td>7.2</td>\n",
       "      <td>4</td>\n",
       "      <td>1</td>\n",
       "    </tr>\n",
       "    <tr>\n",
       "      <th>1</th>\n",
       "      <td>20170102</td>\n",
       "      <td>9</td>\n",
       "      <td>13</td>\n",
       "      <td>88</td>\n",
       "      <td>10.8</td>\n",
       "      <td>4</td>\n",
       "      <td>1</td>\n",
       "    </tr>\n",
       "    <tr>\n",
       "      <th>2</th>\n",
       "      <td>20170102</td>\n",
       "      <td>10</td>\n",
       "      <td>13</td>\n",
       "      <td>88</td>\n",
       "      <td>18.0</td>\n",
       "      <td>2</td>\n",
       "      <td>1</td>\n",
       "    </tr>\n",
       "    <tr>\n",
       "      <th>3</th>\n",
       "      <td>20170102</td>\n",
       "      <td>11</td>\n",
       "      <td>15</td>\n",
       "      <td>77</td>\n",
       "      <td>10.8</td>\n",
       "      <td>2</td>\n",
       "      <td>1</td>\n",
       "    </tr>\n",
       "    <tr>\n",
       "      <th>4</th>\n",
       "      <td>20170102</td>\n",
       "      <td>12</td>\n",
       "      <td>15</td>\n",
       "      <td>72</td>\n",
       "      <td>10.8</td>\n",
       "      <td>4</td>\n",
       "      <td>1</td>\n",
       "    </tr>\n",
       "  </tbody>\n",
       "</table>\n",
       "</div>"
      ],
      "text/plain": [
       "       date  hour  temp  humidity  wind_speed  weather  dayofweek\n",
       "0  20170102     8    11        94         7.2        4          1\n",
       "1  20170102     9    13        88        10.8        4          1\n",
       "2  20170102    10    13        88        18.0        2          1\n",
       "3  20170102    11    15        77        10.8        2          1\n",
       "4  20170102    12    15        72        10.8        4          1"
      ]
     },
     "execution_count": 14,
     "metadata": {},
     "output_type": "execute_result"
    }
   ],
   "source": [
    "weather_data.head()"
   ]
  },
  {
   "cell_type": "markdown",
   "metadata": {},
   "source": [
    "### 合并训练数据和天气数据"
   ]
  },
  {
   "cell_type": "code",
   "execution_count": 15,
   "metadata": {},
   "outputs": [],
   "source": [
    "#取合并天气数据后的,按grid_id生成的数据\n",
    "def get_grid_train_data(weather_data, grid_id):\n",
    "    grid_data=pd.read_csv(\"B_train_data_grid_{}.csv\".format(grid_id))\n",
    "    \n",
    "    #w合并天气和训练数据,用外联的方式补全某些小时段内车辆数为0的数据\n",
    "    grid_train_data=pd.merge(grid_data, weather_data, on=['date', 'hour'], how = 'outer')\n",
    "    grid_train_data['grid_id']=grid_id\n",
    "    \n",
    "    #将NaN改成0\n",
    "    grid_train_data['car_number'].fillna(0, inplace=True)\n",
    "    \n",
    "    grid_train_data.to_csv(\"B_train_data_with_weath_grid_{}.csv\".format(grid_id), index=None)\n",
    "    \n",
    "    return grid_train_data"
   ]
  },
  {
   "cell_type": "code",
   "execution_count": 16,
   "metadata": {},
   "outputs": [
    {
     "ename": "NameError",
     "evalue": "name 'grid_train_data' is not defined",
     "output_type": "error",
     "traceback": [
      "\u001b[1;31m---------------------------------------------------------------------------\u001b[0m",
      "\u001b[1;31mNameError\u001b[0m                                 Traceback (most recent call last)",
      "\u001b[1;32m<ipython-input-16-e4ecf67d2444>\u001b[0m in \u001b[0;36m<module>\u001b[1;34m()\u001b[0m\n\u001b[1;32m----> 1\u001b[1;33m \u001b[0mgrid_train_data\u001b[0m\u001b[1;33m.\u001b[0m\u001b[0mcolumns\u001b[0m\u001b[1;33m\u001b[0m\u001b[0m\n\u001b[0m",
      "\u001b[1;31mNameError\u001b[0m: name 'grid_train_data' is not defined"
     ]
    }
   ],
   "source": [
    "grid_train_data.columns"
   ]
  },
  {
   "cell_type": "code",
   "execution_count": null,
   "metadata": {},
   "outputs": [],
   "source": [
    "grid_train_data.info()"
   ]
  },
  {
   "cell_type": "markdown",
   "metadata": {},
   "source": [
    "### 生成50个grid_id的训练数据,补全0数据,合并生成一个完整的数据集"
   ]
  },
  {
   "cell_type": "code",
   "execution_count": null,
   "metadata": {},
   "outputs": [],
   "source": [
    "train_data=get_grid_train_data(weather_data, 51)  #简单起见先加载grid=51的数据\n",
    "for grid_id in range(52,101):  #合并grid=1以后的数据\n",
    "    grid_train_data = get_grid_train_data(weather_data, grid_id)\n",
    "    train_data = pd.concat([train_data, grid_train_data], axis=0)\n",
    "\n",
    "train_data.to_csv(\"B_all_train_data_20170102_20100326.csv\", index=False)"
   ]
  },
  {
   "cell_type": "code",
   "execution_count": null,
   "metadata": {},
   "outputs": [],
   "source": [
    "byday=train_data.groupby('date').count()\n",
    "\n",
    "byday[byday['grid_id']!=800]  #16*50 一个日期的记录数应该是800条"
   ]
  },
  {
   "cell_type": "code",
   "execution_count": null,
   "metadata": {},
   "outputs": [],
   "source": [
    "#条数不对的数据\n",
    "data_0131=train_data[train_data['date']==20170131]\n",
    "data_0320=train_data[train_data['date']==20170320]\n",
    "data_0326=train_data[train_data['date']==20170326]"
   ]
  },
  {
   "cell_type": "code",
   "execution_count": null,
   "metadata": {},
   "outputs": [],
   "source": [
    "data_0326.groupby('hour').count()"
   ]
  }
 ],
 "metadata": {
  "kernelspec": {
   "display_name": "Python 3",
   "language": "python",
   "name": "python3"
  },
  "language_info": {
   "codemirror_mode": {
    "name": "ipython",
    "version": 3
   },
   "file_extension": ".py",
   "mimetype": "text/x-python",
   "name": "python",
   "nbconvert_exporter": "python",
   "pygments_lexer": "ipython3",
   "version": "3.6.5"
  }
 },
 "nbformat": 4,
 "nbformat_minor": 2
}
