{
 "cells": [
  {
   "cell_type": "code",
   "execution_count": 34,
   "metadata": {},
   "outputs": [],
   "source": [
    "import pandas as pd\n",
    "import numpy as np\n",
    "import datetime"
   ]
  },
  {
   "cell_type": "code",
   "execution_count": 6,
   "metadata": {},
   "outputs": [],
   "source": [
    "#文件列表\n",
    "pre_path='data/pred/'\n",
    "filelist=['B_RandomForestRegressor_20180925094702.csv',\n",
    "        'B_GradientBoostingRegressor_20180925111540.csv',\n",
    "         'B_XGBRegressor_20180925130757_ceil.csv']"
   ]
  },
  {
   "cell_type": "markdown",
   "metadata": {},
   "source": [
    "## 结果合并规则\n",
    "- 有两个值一样的,则以一样的值为准\n",
    "- 三个值都不一样,则取平均值"
   ]
  },
  {
   "cell_type": "code",
   "execution_count": 30,
   "metadata": {},
   "outputs": [],
   "source": [
    "df1 = pd.read_csv(pre_path+\"B_RandomForestRegressor_20180925094702.csv\")\n",
    "df2 = pd.read_csv(pre_path+\"B_GradientBoostingRegressor_20180925111540.csv\")\n",
    "df3 = pd.read_csv(pre_path+\"B_XGBRegressor_20180925125403.csv\")\n",
    "\n",
    "df1.rename(columns={'car_number':'rf_car_number'}, inplace=True)\n",
    "df2.rename(columns={'car_number':'gb_car_number'}, inplace=True)\n",
    "df3.rename(columns={'car_number':'xgb_car_number'}, inplace=True)\n",
    "df3['xgb_car_number']=df3['xgb_car_number'].astype(np.int64)\n",
    "\n",
    "df = pd.concat([df1,df2['gb_car_number'],df3['xgb_car_number']], axis=1)\n"
   ]
  },
  {
   "cell_type": "code",
   "execution_count": 32,
   "metadata": {},
   "outputs": [
    {
     "data": {
      "text/html": [
       "<div>\n",
       "<table border=\"1\" class=\"dataframe\">\n",
       "  <thead>\n",
       "    <tr style=\"text-align: right;\">\n",
       "      <th></th>\n",
       "      <th>grid_id</th>\n",
       "      <th>day</th>\n",
       "      <th>hour</th>\n",
       "      <th>rf_car_number</th>\n",
       "      <th>gb_car_number</th>\n",
       "      <th>xgb_car_number</th>\n",
       "    </tr>\n",
       "  </thead>\n",
       "  <tbody>\n",
       "    <tr>\n",
       "      <th>0</th>\n",
       "      <td>51</td>\n",
       "      <td>20170313</td>\n",
       "      <td>9</td>\n",
       "      <td>8</td>\n",
       "      <td>8</td>\n",
       "      <td>7</td>\n",
       "    </tr>\n",
       "    <tr>\n",
       "      <th>1</th>\n",
       "      <td>52</td>\n",
       "      <td>20170313</td>\n",
       "      <td>9</td>\n",
       "      <td>0</td>\n",
       "      <td>1</td>\n",
       "      <td>0</td>\n",
       "    </tr>\n",
       "    <tr>\n",
       "      <th>2</th>\n",
       "      <td>53</td>\n",
       "      <td>20170313</td>\n",
       "      <td>9</td>\n",
       "      <td>3</td>\n",
       "      <td>4</td>\n",
       "      <td>3</td>\n",
       "    </tr>\n",
       "    <tr>\n",
       "      <th>3</th>\n",
       "      <td>54</td>\n",
       "      <td>20170313</td>\n",
       "      <td>9</td>\n",
       "      <td>6</td>\n",
       "      <td>6</td>\n",
       "      <td>5</td>\n",
       "    </tr>\n",
       "    <tr>\n",
       "      <th>4</th>\n",
       "      <td>55</td>\n",
       "      <td>20170313</td>\n",
       "      <td>9</td>\n",
       "      <td>5</td>\n",
       "      <td>6</td>\n",
       "      <td>6</td>\n",
       "    </tr>\n",
       "  </tbody>\n",
       "</table>\n",
       "</div>"
      ],
      "text/plain": [
       "   grid_id       day  hour  rf_car_number  gb_car_number  xgb_car_number\n",
       "0       51  20170313     9              8              8               7\n",
       "1       52  20170313     9              0              1               0\n",
       "2       53  20170313     9              3              4               3\n",
       "3       54  20170313     9              6              6               5\n",
       "4       55  20170313     9              5              6               6"
      ]
     },
     "execution_count": 32,
     "metadata": {},
     "output_type": "execute_result"
    }
   ],
   "source": [
    "df.head()"
   ]
  },
  {
   "cell_type": "code",
   "execution_count": 38,
   "metadata": {},
   "outputs": [],
   "source": [
    "def merge_result(row):\n",
    "    if row['rf_car_number'] == row['gb_car_number']:\n",
    "        return row['gb_car_number']\n",
    "    if row['rf_car_number'] == row['xgb_car_number']:\n",
    "        return row['xgb_car_number']\n",
    "    if row['gb_car_number'] == row['xgb_car_number']:\n",
    "        return row['xgb_car_number']\n",
    "    return np.ceil((row['rf_car_number']+row['gb_car_number']+row['xgb_car_number'])/3)\n",
    "\n",
    "df['car_number']=df.apply(merge_result, axis=1)\n"
   ]
  },
  {
   "cell_type": "code",
   "execution_count": 41,
   "metadata": {},
   "outputs": [],
   "source": [
    "now_time = datetime.datetime.now()\n",
    "\n",
    "df[['grid_id','day','hour','car_number']].to_csv(pre_path+\"B_merge_{}.csv\".format(now_time.strftime('%Y%m%d%H%M%S')), index=False)"
   ]
  }
 ],
 "metadata": {
  "kernelspec": {
   "display_name": "Python 3",
   "language": "python",
   "name": "python3"
  },
  "language_info": {
   "codemirror_mode": {
    "name": "ipython",
    "version": 3
   },
   "file_extension": ".py",
   "mimetype": "text/x-python",
   "name": "python",
   "nbconvert_exporter": "python",
   "pygments_lexer": "ipython3",
   "version": "3.5.4"
  }
 },
 "nbformat": 4,
 "nbformat_minor": 2
}
